{
 "cells": [
  {
   "cell_type": "code",
   "execution_count": 1,
   "id": "ba6b064f-dd9f-4072-8cb6-cc31c4ac2852",
   "metadata": {},
   "outputs": [
    {
     "name": "stdout",
     "output_type": "stream",
     "text": [
      " saylani class 2\n"
     ]
    }
   ],
   "source": [
    "print(\" saylani class 2\");"
   ]
  },
  {
   "cell_type": "raw",
   "id": "1f253d59-7cb9-4315-ad11-ba7cc91200dd",
   "metadata": {},
   "source": []
  },
  {
   "cell_type": "code",
   "execution_count": null,
   "id": "b2a8df20-fdb9-458a-9502-134fa1b01b65",
   "metadata": {},
   "outputs": [],
   "source": []
  },
  {
   "cell_type": "markdown",
   "id": "5df7fdab-fa95-46a6-b385-c2613345f4ae",
   "metadata": {},
   "source": [
    "## Variable"
   ]
  },
  {
   "cell_type": "code",
   "execution_count": 4,
   "id": "80a91b53-5538-469a-9d98-0bdacd44a400",
   "metadata": {},
   "outputs": [],
   "source": [
    "name = \"hubaib\"\n"
   ]
  },
  {
   "cell_type": "code",
   "execution_count": 6,
   "id": "9dba2e4a-8a0e-42ed-96c1-017645b89f18",
   "metadata": {},
   "outputs": [
    {
     "name": "stdout",
     "output_type": "stream",
     "text": [
      "hubaib\n"
     ]
    }
   ],
   "source": [
    "print (name)"
   ]
  },
  {
   "cell_type": "code",
   "execution_count": 8,
   "id": "dbd10ad5-d3bb-4e0f-8c65-37c19bf85037",
   "metadata": {},
   "outputs": [
    {
     "name": "stdout",
     "output_type": "stream",
     "text": [
      "<class 'str'>\n"
     ]
    }
   ],
   "source": [
    "print(type(name))"
   ]
  },
  {
   "cell_type": "code",
   "execution_count": 10,
   "id": "6232ae3e-85cc-4f72-a5bb-6f7eeac6729a",
   "metadata": {},
   "outputs": [],
   "source": [
    "lastName = 'shoaib'\n"
   ]
  },
  {
   "cell_type": "code",
   "execution_count": 12,
   "id": "2cdff106-b091-4bc7-b906-cb140f42060b",
   "metadata": {},
   "outputs": [
    {
     "name": "stdout",
     "output_type": "stream",
     "text": [
      "hubaib\n"
     ]
    },
    {
     "data": {
      "text/plain": [
       "2233265083568"
      ]
     },
     "execution_count": 12,
     "metadata": {},
     "output_type": "execute_result"
    }
   ],
   "source": [
    "print (name)\n",
    "id (name )\n"
   ]
  },
  {
   "cell_type": "code",
   "execution_count": 14,
   "id": "a2d51232-90f6-4c2b-911f-af71a61e7fbc",
   "metadata": {},
   "outputs": [],
   "source": [
    "age = 24\n"
   ]
  },
  {
   "cell_type": "code",
   "execution_count": 16,
   "id": "51d65791-c824-4b1f-8a05-ef615d3efcbc",
   "metadata": {},
   "outputs": [
    {
     "name": "stdout",
     "output_type": "stream",
     "text": [
      "24\n"
     ]
    }
   ],
   "source": [
    "print (age)"
   ]
  },
  {
   "cell_type": "code",
   "execution_count": 18,
   "id": "09fc0aca-6571-44cf-926b-da1f8ad6c9db",
   "metadata": {},
   "outputs": [],
   "source": [
    "weight =54.5\n"
   ]
  },
  {
   "cell_type": "code",
   "execution_count": 20,
   "id": "ad7d234e-51d3-4fd1-8f0c-1609db3d8634",
   "metadata": {},
   "outputs": [
    {
     "name": "stdout",
     "output_type": "stream",
     "text": [
      "54.5\n"
     ]
    }
   ],
   "source": [
    "print (weight)\n"
   ]
  },
  {
   "cell_type": "code",
   "execution_count": 22,
   "id": "e25172ca-daf0-47b5-855f-69599a3877c5",
   "metadata": {},
   "outputs": [],
   "source": [
    "paragraph =''' my name is hubaib\n",
    "its a new part of my journey \n",
    "well well well \n",
    "bye'''\n"
   ]
  },
  {
   "cell_type": "code",
   "execution_count": 24,
   "id": "056542b5-7e6d-4074-b46b-d608b350ce47",
   "metadata": {},
   "outputs": [
    {
     "name": "stdout",
     "output_type": "stream",
     "text": [
      " my name is hubaib\n",
      "its a new part of my journey \n",
      "well well well \n",
      "bye\n"
     ]
    }
   ],
   "source": [
    "print (paragraph)\n"
   ]
  },
  {
   "cell_type": "markdown",
   "id": "0f0eba60-5190-4e81-aea7-149516359202",
   "metadata": {},
   "source": [
    "- string\n",
    "- boolean\n",
    "- float\n",
    "- integer\n",
    "### "
   ]
  },
  {
   "cell_type": "code",
   "execution_count": 27,
   "id": "4d99e434-f77a-42bf-8650-e07aed155dfb",
   "metadata": {},
   "outputs": [],
   "source": [
    "# addition\n",
    "a =87\n",
    "b = 2.9"
   ]
  },
  {
   "cell_type": "code",
   "execution_count": 29,
   "id": "b74be732-d0e9-4c3b-900e-eb44452e12ef",
   "metadata": {},
   "outputs": [
    {
     "name": "stdout",
     "output_type": "stream",
     "text": [
      "89.9\n"
     ]
    }
   ],
   "source": [
    "print (a+b)"
   ]
  },
  {
   "cell_type": "code",
   "execution_count": 31,
   "id": "22fee202-5131-4d35-a6aa-44b71a80ebe4",
   "metadata": {},
   "outputs": [
    {
     "name": "stdout",
     "output_type": "stream",
     "text": [
      "84.1\n"
     ]
    }
   ],
   "source": [
    "print (a-b)\n"
   ]
  },
  {
   "cell_type": "code",
   "execution_count": 33,
   "id": "8187d49d-04a2-45e3-83fd-ed037833e066",
   "metadata": {},
   "outputs": [
    {
     "name": "stdout",
     "output_type": "stream",
     "text": [
      "252.29999999999998\n"
     ]
    }
   ],
   "source": [
    "print(a*b)\n"
   ]
  },
  {
   "cell_type": "code",
   "execution_count": 35,
   "id": "ba5e5e2a-454b-4d08-be15-e1956eda9f36",
   "metadata": {},
   "outputs": [
    {
     "name": "stdout",
     "output_type": "stream",
     "text": [
      "30.0\n"
     ]
    }
   ],
   "source": [
    "print(a/b)"
   ]
  },
  {
   "cell_type": "code",
   "execution_count": 37,
   "id": "cec75759-261e-43be-a616-9047f02103d4",
   "metadata": {},
   "outputs": [
    {
     "name": "stdout",
     "output_type": "stream",
     "text": [
      "30.0\n"
     ]
    }
   ],
   "source": [
    "print(a//b)\n"
   ]
  },
  {
   "cell_type": "code",
   "execution_count": 39,
   "id": "aa77f49e-87d5-4db1-a53c-91e6ffb1a4a3",
   "metadata": {},
   "outputs": [
    {
     "ename": "NameError",
     "evalue": "name 'math' is not defined",
     "output_type": "error",
     "traceback": [
      "\u001b[1;31m---------------------------------------------------------------------------\u001b[0m",
      "\u001b[1;31mNameError\u001b[0m                                 Traceback (most recent call last)",
      "Cell \u001b[1;32mIn[39], line 2\u001b[0m\n\u001b[0;32m      1\u001b[0m c\u001b[38;5;241m=\u001b[39m\u001b[38;5;241m5.876\u001b[39m\n\u001b[1;32m----> 2\u001b[0m math\u001b[38;5;241m.\u001b[39mfloor(c)\n",
      "\u001b[1;31mNameError\u001b[0m: name 'math' is not defined"
     ]
    }
   ],
   "source": [
    "c=5.876\n",
    "math.floor(c)\n"
   ]
  },
  {
   "cell_type": "code",
   "execution_count": 41,
   "id": "320fb1ab-6d70-4420-8dec-65dee5005fd5",
   "metadata": {},
   "outputs": [
    {
     "data": {
      "text/plain": [
       "5"
      ]
     },
     "execution_count": 41,
     "metadata": {},
     "output_type": "execute_result"
    }
   ],
   "source": [
    "import math \n",
    "c=5.876\n",
    "math.floor(c)\n"
   ]
  },
  {
   "cell_type": "code",
   "execution_count": 43,
   "id": "7444ec43-84e4-472c-9aac-ba64b0c2c013",
   "metadata": {},
   "outputs": [
    {
     "ename": "AttributeError",
     "evalue": "module 'math' has no attribute 'ciel'",
     "output_type": "error",
     "traceback": [
      "\u001b[1;31m---------------------------------------------------------------------------\u001b[0m",
      "\u001b[1;31mAttributeError\u001b[0m                            Traceback (most recent call last)",
      "Cell \u001b[1;32mIn[43], line 3\u001b[0m\n\u001b[0;32m      1\u001b[0m \u001b[38;5;28;01mimport\u001b[39;00m \u001b[38;5;21;01mmath\u001b[39;00m \n\u001b[0;32m      2\u001b[0m c\u001b[38;5;241m=\u001b[39m\u001b[38;5;241m5.876\u001b[39m\n\u001b[1;32m----> 3\u001b[0m math\u001b[38;5;241m.\u001b[39mciel(c)\n",
      "\u001b[1;31mAttributeError\u001b[0m: module 'math' has no attribute 'ciel'"
     ]
    }
   ],
   "source": [
    "import math \n",
    "c=5.876\n",
    "math.ciel(c)\n"
   ]
  },
  {
   "cell_type": "code",
   "execution_count": 45,
   "id": "36a3e885-f4f2-41b1-9a81-47ba8f84f26d",
   "metadata": {},
   "outputs": [
    {
     "data": {
      "text/plain": [
       "6"
      ]
     },
     "execution_count": 45,
     "metadata": {},
     "output_type": "execute_result"
    }
   ],
   "source": [
    "import math \n",
    "c=5.876\n",
    "math.ceil(c)\n"
   ]
  },
  {
   "cell_type": "markdown",
   "id": "a64f65fb-6d55-4ea1-b097-c7a24ce79576",
   "metadata": {},
   "source": [
    "###concatenation\n"
   ]
  },
  {
   "cell_type": "markdown",
   "id": "99fe987d-3856-4e0a-b11f-28b9bb59fcef",
   "metadata": {},
   "source": [
    "### concatenation\n"
   ]
  },
  {
   "cell_type": "code",
   "execution_count": 49,
   "id": "164961d2-3611-413a-af8f-f35b9089a3b1",
   "metadata": {},
   "outputs": [
    {
     "ename": "SyntaxError",
     "evalue": "'(' was never closed (1492432156.py, line 1)",
     "output_type": "error",
     "traceback": [
      "\u001b[1;36m  Cell \u001b[1;32mIn[49], line 1\u001b[1;36m\u001b[0m\n\u001b[1;33m    print (f\"student name: (name)\"\u001b[0m\n\u001b[1;37m          ^\u001b[0m\n\u001b[1;31mSyntaxError\u001b[0m\u001b[1;31m:\u001b[0m '(' was never closed\n"
     ]
    }
   ],
   "source": [
    "print (f\"student name: (name)\"\n",
    "       print \"student name:\", (name)\n",
    "print (\"student name :\" + str(name))"
   ]
  },
  {
   "cell_type": "code",
   "execution_count": 51,
   "id": "ab814ad7-6e41-415d-b519-a8224a36c192",
   "metadata": {},
   "outputs": [
    {
     "name": "stdout",
     "output_type": "stream",
     "text": [
      "student name: (name)\n",
      "student name: hubaib\n",
      "student name :hubaib\n"
     ]
    }
   ],
   "source": [
    "print (f\"student name: (name)\")\n",
    "print (\"student name:\", (name))\n",
    "print (\"student name :\" + str(name))"
   ]
  },
  {
   "cell_type": "code",
   "execution_count": 53,
   "id": "43d07fdb-4590-43f2-9a59-23d3d86a72eb",
   "metadata": {},
   "outputs": [
    {
     "name": "stdout",
     "output_type": "stream",
     "text": [
      "student name: hubaib\n",
      "student name: hubaib\n",
      "student name :hubaib\n"
     ]
    }
   ],
   "source": [
    "print (f\"student name: {name}\")\n",
    "print (\"student name:\", (name))\n",
    "print (\"student name :\" + str(name))"
   ]
  },
  {
   "cell_type": "code",
   "execution_count": null,
   "id": "3c2aa4a5-3cd1-40df-b116-96e74d14c623",
   "metadata": {},
   "outputs": [],
   "source": []
  }
 ],
 "metadata": {
  "kernelspec": {
   "display_name": "Python 3 (ipykernel)",
   "language": "python",
   "name": "python3"
  },
  "language_info": {
   "codemirror_mode": {
    "name": "ipython",
    "version": 3
   },
   "file_extension": ".py",
   "mimetype": "text/x-python",
   "name": "python",
   "nbconvert_exporter": "python",
   "pygments_lexer": "ipython3",
   "version": "3.11.7"
  }
 },
 "nbformat": 4,
 "nbformat_minor": 5
}
